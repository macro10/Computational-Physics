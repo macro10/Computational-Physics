{
 "cells": [
  {
   "cell_type": "markdown",
   "id": "3e0957ad",
   "metadata": {},
   "source": [
    "Name: McHale Trotter"
   ]
  },
  {
   "cell_type": "markdown",
   "id": "65cf2c0e",
   "metadata": {},
   "source": [
    "# Particle Distribution of Water Inside a Filter\n",
    "\n",
    "In this simulation, we will model a collection of particles. Each particle has a mass of 2 kg and a radius of 0.5 meters. The particles will be thrown in the negative y direction into a lattice of rods representing a filter. We predict that a more dense setup of rods will yield less distribution of particles through the filter. We also predict that a higher radius ball will not go as far through the filter."
   ]
  },
  {
   "cell_type": "markdown",
   "id": "1e008c79",
   "metadata": {},
   "source": [
    "## Research Questions\n",
    "\n",
    "1. How does the distance between rods affect the distribution of the particles in the filter?\n",
    "\n",
    "\n",
    "2. How does changing the radius of the particles effect the distribution of particles in the filter?\n"
   ]
  },
  {
   "cell_type": "markdown",
   "id": "2b67c736",
   "metadata": {},
   "source": [
    "## Computational Model\n",
    "\n",
    "The simulation of the filter is below. The length of the box is 60 by 40 meters with the origin in the center of the box. The particles are generated at the top of the box at random locations along the x-axis. All particles are given the same initial velocity, and this velocity will not change in magnitude throughout the simulation. \n",
    "\n",
    "The following variables will affect how long it takes to run the model:\n",
    "\n",
    "N = 120: Total number of particles\n",
    "\n",
    "Nsteps = 50: Total number of time steps for the while loop"
   ]
  },
  {
   "cell_type": "code",
   "execution_count": 1,
   "id": "5af3a4b5",
   "metadata": {},
   "outputs": [
    {
     "data": {
      "text/html": [
       "<div id=\"glowscript\" class=\"glowscript\"></div>"
      ],
      "text/plain": [
       "<IPython.core.display.HTML object>"
      ]
     },
     "metadata": {},
     "output_type": "display_data"
    },
    {
     "data": {
      "application/javascript": [
       "if (typeof Jupyter !== \"undefined\") { window.__context = { glowscript_container: $(\"#glowscript\").removeAttr(\"id\")};}else{ element.textContent = ' ';}"
      ],
      "text/plain": [
       "<IPython.core.display.Javascript object>"
      ]
     },
     "metadata": {},
     "output_type": "display_data"
    }
   ],
   "source": [
    "from vpython import *\n",
    "import numpy as np\n",
    "import random as rand\n",
    "import matplotlib.pyplot as plt"
   ]
  },
  {
   "cell_type": "markdown",
   "id": "fd3c1476",
   "metadata": {},
   "source": [
    "## Changing the distance between the rods\n",
    "\n",
    "The following cell represents a filter with rods only one meter apart."
   ]
  },
  {
   "cell_type": "code",
   "execution_count": 2,
   "id": "2331f32f",
   "metadata": {},
   "outputs": [
    {
     "data": {
      "text/html": [
       "<div id=\"glowscript\" class=\"glowscript\"></div>"
      ],
      "text/plain": [
       "<IPython.core.display.HTML object>"
      ]
     },
     "metadata": {},
     "output_type": "display_data"
    },
    {
     "data": {
      "application/javascript": [
       "if (typeof Jupyter !== \"undefined\") { window.__context = { glowscript_container: $(\"#glowscript\").removeAttr(\"id\")};}else{ element.textContent = ' ';}"
      ],
      "text/plain": [
       "<IPython.core.display.Javascript object>"
      ]
     },
     "metadata": {},
     "output_type": "display_data"
    },
    {
     "data": {
      "application/javascript": [
       "if (typeof Jupyter !== \"undefined\") {require.undef(\"nbextensions/vpython_libraries/glow.min\");}else{element.textContent = ' ';}"
      ],
      "text/plain": [
       "<IPython.core.display.Javascript object>"
      ]
     },
     "metadata": {},
     "output_type": "display_data"
    },
    {
     "data": {
      "application/javascript": [
       "if (typeof Jupyter !== \"undefined\") {require.undef(\"nbextensions/vpython_libraries/glowcomm\");}else{element.textContent = ' ';}"
      ],
      "text/plain": [
       "<IPython.core.display.Javascript object>"
      ]
     },
     "metadata": {},
     "output_type": "display_data"
    },
    {
     "data": {
      "application/javascript": [
       "if (typeof Jupyter !== \"undefined\") {require.undef(\"nbextensions/vpython_libraries/jquery-ui.custom.min\");}else{element.textContent = ' ';}"
      ],
      "text/plain": [
       "<IPython.core.display.Javascript object>"
      ]
     },
     "metadata": {},
     "output_type": "display_data"
    },
    {
     "data": {
      "application/javascript": [
       "if (typeof Jupyter !== \"undefined\") {require([\"nbextensions/vpython_libraries/glow.min\"], function(){console.log(\"GLOW LOADED\");});}else{element.textContent = ' ';}"
      ],
      "text/plain": [
       "<IPython.core.display.Javascript object>"
      ]
     },
     "metadata": {},
     "output_type": "display_data"
    },
    {
     "data": {
      "application/javascript": [
       "if (typeof Jupyter !== \"undefined\") {require([\"nbextensions/vpython_libraries/glowcomm\"], function(){console.log(\"GLOWCOMM LOADED\");});}else{element.textContent = ' ';}"
      ],
      "text/plain": [
       "<IPython.core.display.Javascript object>"
      ]
     },
     "metadata": {},
     "output_type": "display_data"
    },
    {
     "data": {
      "application/javascript": [
       "if (typeof Jupyter !== \"undefined\") {require([\"nbextensions/vpython_libraries/jquery-ui.custom.min\"], function(){console.log(\"JQUERY LOADED\");});}else{element.textContent = ' ';}"
      ],
      "text/plain": [
       "<IPython.core.display.Javascript object>"
      ]
     },
     "metadata": {},
     "output_type": "display_data"
    }
   ],
   "source": [
    "scene=canvas()\n",
    "\n",
    "\n",
    "m = 2 # kg\n",
    "Rball = 0.5 #radius of ball in m\n",
    "Rrod = 0.25 #radius of rod in m\n",
    "vBall = vec(0, -150, 0)\n",
    "\n",
    "#creating the box\n",
    "Lwall = box(pos = vec(-30, 0, 0), size = vec(0.4, 40, 10), color=color.white)\n",
    "Rwall = box(pos = vec(30, 0, 0), size = vec(0.4, 40, 10), color=color.white)\n",
    "Bwall = box(pos = vec(0, -20, 0), size = vec(60, 0.4, 10), color=color.white)\n",
    "\n",
    "rods = [] # list of rods\n",
    "\n",
    "#creating the rods\n",
    "x = -30\n",
    "y = 19.5\n",
    "i = 0\n",
    "while i < 20:\n",
    "    x+=1\n",
    "    rod = cylinder(pos = vector(x, y, -5), radius = Rrod, axis = vec(0,0,10))\n",
    "    rods.append(rod)\n",
    "    if x >= 27:\n",
    "        y-=2\n",
    "        x=-30\n",
    "        if i % 2 == 0:\n",
    "            x = -29.25\n",
    "        i+=1\n",
    "\n",
    "\n",
    "balls = [] # list of balls\n",
    "\n",
    "N = 100 # number of balls\n",
    "\n",
    "#create balls\n",
    "for i in range(N):\n",
    "        ball = sphere(pos = vec(rand.uniform(-28, 28), 20, 0), radius = Rball, color = color.red)\n",
    "\n",
    "        ball.v = vBall # m/s\n",
    "        ball.p = m*ball.v\n",
    "        \n",
    "        balls.append(ball)\n",
    "\n",
    "\n",
    "#check for collisions with rods\n",
    "t = 0\n",
    "dt = 0.01\n",
    "\n",
    "scene.pause()\n",
    "Nsteps = 50\n",
    "while t < Nsteps*dt:\n",
    "    rate(200)\n",
    "    \n",
    "    \n",
    "    #handle collisions with balls and rods    \n",
    "    for ball in balls:\n",
    "        ball.pos = ball.pos + ball.v*dt\n",
    "        \n",
    "        if ball.pos.x > 30:\n",
    "            ball.v.x = - abs(ball.v.x)\n",
    "            ball.p = m*ball.v\n",
    "        elif ball.pos.x < -30:\n",
    "            ball.v.x = abs(ball.v.x)\n",
    "            ball.p = m*ball.v\n",
    "        if ball.pos.y < -20:\n",
    "            ball.v.y = abs(ball.v.y)\n",
    "            ball.p = m*ball.v\n",
    "\n",
    "\n",
    "        for rod in rods:    \n",
    "            center = rod.pos + 1/2*rod.axis\n",
    "            r = ball.pos - center\n",
    "            if mag(r) < Rrod + Rball:\n",
    "                rhat = hat(r)\n",
    "                vballrad = dot(ball.v, rhat)*rhat #rad comp of ball.v\n",
    "                vballtan = ball.v - vballrad #tan comp of ball.v\n",
    "                vballrad = - vballrad #reverse ball.rad due to collision\n",
    "                ball.v = vballtan + vballrad #new ball.v after collision\n",
    "\n",
    "        #check for balls that have bounced up and stop them\n",
    "        if ball.pos.y > 22:\n",
    "            ball.v = vec(0, 0, 0)\n",
    "            \n",
    "            \n",
    "    t = t + dt\n",
    "\n",
    "\n"
   ]
  },
  {
   "cell_type": "markdown",
   "id": "3d40fb55",
   "metadata": {},
   "source": [
    "As you can see from the graph below, most of the particles didn't even get past the first layer of the filter. In the next model, the rods will be 2 meters apart, and we should expect to see particles make it further through the filter."
   ]
  },
  {
   "cell_type": "code",
   "execution_count": null,
   "id": "38194a84",
   "metadata": {},
   "outputs": [],
   "source": [
    "positions = [ball.pos.y for ball in balls]\n",
    "\n",
    "plt.hist(positions)\n",
    "plt.xlabel('Y position')\n",
    "plt.ylabel('# of balls')\n",
    "plt.title('Final Y position of Balls')"
   ]
  },
  {
   "cell_type": "code",
   "execution_count": null,
   "id": "6697db6c",
   "metadata": {
    "scrolled": true
   },
   "outputs": [],
   "source": [
    "scene=canvas()\n",
    "\n",
    "\n",
    "m = 2 # kg\n",
    "Rball = 0.5 #radius of ball in m\n",
    "Rrod = 0.25 #radius of rod in m\n",
    "vBall = vec(0, -150, 0)\n",
    "\n",
    "#creating the box\n",
    "Lwall = box(pos = vec(-30, 0, 0), size = vec(0.4, 40, 10), color=color.white)\n",
    "Rwall = box(pos = vec(30, 0, 0), size = vec(0.4, 40, 10), color=color.white)\n",
    "Bwall = box(pos = vec(0, -20, 0), size = vec(60, 0.4, 10), color=color.white)\n",
    "\n",
    "rods = [] # list of rods\n",
    "\n",
    "#creating the rods\n",
    "x = -30\n",
    "y = 19.5\n",
    "i = 0\n",
    "while i < 20:\n",
    "    x+=2\n",
    "    rod = cylinder(pos = vector(x, y, -5), radius = Rrod, axis = vec(0,0,10))\n",
    "    rods.append(rod)\n",
    "    if x >= 27:\n",
    "        y-=2\n",
    "        x=-30\n",
    "        if i % 2 == 0:\n",
    "            x = -29.25\n",
    "        i+=1\n",
    "\n",
    "\n",
    "balls = [] # list of balls\n",
    "\n",
    "N = 100 # number of balls\n",
    "\n",
    "#create balls\n",
    "for i in range(N):\n",
    "        ball = sphere(pos = vec(rand.uniform(-28, 28), 20, 0), radius = Rball, color = color.red)\n",
    "\n",
    "        ball.v = vBall # m/s\n",
    "        ball.p = m*ball.v\n",
    "        \n",
    "        balls.append(ball)\n",
    "\n",
    "\n",
    "#check for collisions with rods\n",
    "t = 0\n",
    "dt = 0.01\n",
    "\n",
    "scene.pause()\n",
    "Nsteps = 50\n",
    "while t < Nsteps*dt:\n",
    "    rate(200)\n",
    "    \n",
    "    \n",
    "    #handle collisions with balls and rods    \n",
    "    for ball in balls:\n",
    "        ball.pos = ball.pos + ball.v*dt\n",
    "        \n",
    "        if ball.pos.x > 30:\n",
    "            ball.v.x = - abs(ball.v.x)\n",
    "            ball.p = m*ball.v\n",
    "        elif ball.pos.x < -30:\n",
    "            ball.v.x = abs(ball.v.x)\n",
    "            ball.p = m*ball.v\n",
    "        if ball.pos.y < -20:\n",
    "            ball.v.y = abs(ball.v.y)\n",
    "            ball.p = m*ball.v\n",
    "\n",
    "\n",
    "        for rod in rods:    \n",
    "            center = rod.pos + 1/2*rod.axis\n",
    "            r = ball.pos - center\n",
    "            if mag(r) < Rrod + Rball:\n",
    "                rhat = hat(r)\n",
    "                vballrad = dot(ball.v, rhat)*rhat #rad comp of ball.v\n",
    "                vballtan = ball.v - vballrad #tan comp of ball.v\n",
    "                vballrad = - vballrad #reverse ball.rad due to collision\n",
    "                ball.v = vballtan + vballrad #new ball.v after collision\n",
    "\n",
    "        #check for balls that have bounced up and stop them\n",
    "        if ball.pos.y > 22:\n",
    "            ball.v = vec(0, 0, 0)\n",
    "            \n",
    "            \n",
    "    t = t + dt\n",
    "\n",
    "\n"
   ]
  },
  {
   "cell_type": "code",
   "execution_count": null,
   "id": "1a9912c2",
   "metadata": {},
   "outputs": [],
   "source": [
    "positions = [ball.pos.y for ball in balls]\n",
    "\n",
    "plt.hist(positions)\n",
    "plt.xlabel('Y position')\n",
    "plt.ylabel('# of balls')\n",
    "plt.title('Final Y position of Balls')"
   ]
  },
  {
   "cell_type": "markdown",
   "id": "8ebe8122",
   "metadata": {},
   "source": [
    "From the graph, it's easy to see that the particles permeated many more layers of the filter. Some particles didn't even come in contact with a rod."
   ]
  },
  {
   "cell_type": "markdown",
   "id": "9a085965",
   "metadata": {},
   "source": [
    "## Changing the radius of the particles\n",
    "\n",
    "In the following model, the particles have a radius of 0.5 meters and the rods have a radius of 0.25 meters. We should expect to see a similar result to the first model of this simulation."
   ]
  },
  {
   "cell_type": "code",
   "execution_count": 3,
   "id": "1e391844",
   "metadata": {},
   "outputs": [
    {
     "data": {
      "text/html": [
       "<div id=\"glowscript\" class=\"glowscript\"></div>"
      ],
      "text/plain": [
       "<IPython.core.display.HTML object>"
      ]
     },
     "metadata": {},
     "output_type": "display_data"
    },
    {
     "data": {
      "application/javascript": [
       "if (typeof Jupyter !== \"undefined\") { window.__context = { glowscript_container: $(\"#glowscript\").removeAttr(\"id\")};}else{ element.textContent = ' ';}"
      ],
      "text/plain": [
       "<IPython.core.display.Javascript object>"
      ]
     },
     "metadata": {},
     "output_type": "display_data"
    }
   ],
   "source": [
    "scene=canvas()\n",
    "\n",
    "m = 2 # kg\n",
    "Rball = 0.5 #radius of ball in m\n",
    "Rrod = 0.25 #radius of rod in m\n",
    "vBall = vec(0, -150, 0)\n",
    "\n",
    "#creating the box\n",
    "Lwall = box(pos = vec(-30, 0, 0), size = vec(0.4, 40, 10), color=color.white)\n",
    "Rwall = box(pos = vec(30, 0, 0), size = vec(0.4, 40, 10), color=color.white)\n",
    "Bwall = box(pos = vec(0, -20, 0), size = vec(60, 0.4, 10), color=color.white)\n",
    "\n",
    "rods = [] # list of rods\n",
    "\n",
    "#creating the rods\n",
    "x = -30\n",
    "y = 19.5\n",
    "i = 0\n",
    "while i < 20:\n",
    "    x+=2\n",
    "    rod = cylinder(pos = vector(x, y, -5), radius = Rrod, axis = vec(0,0,10))\n",
    "    rods.append(rod)\n",
    "    if x >= 27:\n",
    "        y-=2\n",
    "        x=-30\n",
    "        if i % 2 == 0:\n",
    "            x = -29.25\n",
    "        i+=1\n",
    "\n",
    "\n",
    "balls = [] # list of balls\n",
    "\n",
    "N = 100 # number of balls\n",
    "\n",
    "#create balls\n",
    "for i in range(N):\n",
    "        ball = sphere(pos = vec(rand.uniform(-28, 28), 20, 0), radius = Rball, color = color.red)\n",
    "\n",
    "        ball.v = vBall # m/s\n",
    "        ball.p = m*ball.v\n",
    "        \n",
    "        balls.append(ball)\n",
    "\n",
    "\n",
    "#check for collisions with rods\n",
    "t = 0\n",
    "dt = 0.01\n",
    "\n",
    "scene.pause()\n",
    "Nsteps = 50\n",
    "while t < Nsteps*dt:\n",
    "    rate(200)\n",
    "    \n",
    "    \n",
    "    #handle collisions with balls and rods    \n",
    "    for ball in balls:\n",
    "        ball.pos = ball.pos + ball.v*dt\n",
    "        \n",
    "        if ball.pos.x > 30:\n",
    "            ball.v.x = - abs(ball.v.x)\n",
    "            ball.p = m*ball.v\n",
    "        elif ball.pos.x < -30:\n",
    "            ball.v.x = abs(ball.v.x)\n",
    "            ball.p = m*ball.v\n",
    "        if ball.pos.y < -20:\n",
    "            ball.v.y = abs(ball.v.y)\n",
    "            ball.p = m*ball.v\n",
    "\n",
    "\n",
    "        for rod in rods:    \n",
    "            center = rod.pos + 1/2*rod.axis\n",
    "            r = ball.pos - center\n",
    "            if mag(r) < Rrod + Rball:\n",
    "                rhat = hat(r)\n",
    "                vballrad = dot(ball.v, rhat)*rhat #rad comp of ball.v\n",
    "                vballtan = ball.v - vballrad #tan comp of ball.v\n",
    "                vballrad = - vballrad #reverse ball.rad due to collision\n",
    "                ball.v = vballtan + vballrad #new ball.v after collision\n",
    "\n",
    "        #check for balls that have bounced up and stop them\n",
    "        if ball.pos.y > 22:\n",
    "            ball.v = vec(0, 0, 0)\n",
    "            \n",
    "            \n",
    "    t = t + dt\n"
   ]
  },
  {
   "cell_type": "code",
   "execution_count": 4,
   "id": "14185390",
   "metadata": {},
   "outputs": [
    {
     "data": {
      "text/plain": [
       "Text(0.5, 1.0, 'Final Y position of Balls')"
      ]
     },
     "execution_count": 4,
     "metadata": {},
     "output_type": "execute_result"
    },
    {
     "data": {
      "image/png": "[encoded data removed]",
      "text/plain": [
       "<Figure size 432x288 with 1 Axes>"
      ]
     },
     "metadata": {
      "needs_background": "light"
     },
     "output_type": "display_data"
    }
   ],
   "source": [
    "positions = [ball.pos.y for ball in balls]\n",
    "\n",
    "plt.hist(positions)\n",
    "plt.xlabel('Y position')\n",
    "plt.ylabel('# of balls')\n",
    "plt.title('Final Y position of Balls')"
   ]
  },
  {
   "cell_type": "markdown",
   "id": "62d00c34",
   "metadata": {},
   "source": [
    "For the next model, the particles have a radius of 1 meter. Run the model to see how this affects particle distribution."
   ]
  },
  {
   "cell_type": "code",
   "execution_count": 5,
   "id": "134e29cb",
   "metadata": {},
   "outputs": [
    {
     "data": {
      "text/html": [
       "<div id=\"glowscript\" class=\"glowscript\"></div>"
      ],
      "text/plain": [
       "<IPython.core.display.HTML object>"
      ]
     },
     "metadata": {},
     "output_type": "display_data"
    },
    {
     "data": {
      "application/javascript": [
       "if (typeof Jupyter !== \"undefined\") { window.__context = { glowscript_container: $(\"#glowscript\").removeAttr(\"id\")};}else{ element.textContent = ' ';}"
      ],
      "text/plain": [
       "<IPython.core.display.Javascript object>"
      ]
     },
     "metadata": {},
     "output_type": "display_data"
    }
   ],
   "source": [
    "scene=canvas()\n",
    "\n",
    "m = 2 # kg\n",
    "Rball = 1 #radius of ball in m\n",
    "Rrod = 0.25 #radius of rod in m\n",
    "vBall = vec(0, -150, 0)\n",
    "\n",
    "#creating the box\n",
    "Lwall = box(pos = vec(-30, 0, 0), size = vec(0.4, 40, 10), color=color.white)\n",
    "Rwall = box(pos = vec(30, 0, 0), size = vec(0.4, 40, 10), color=color.white)\n",
    "Bwall = box(pos = vec(0, -20, 0), size = vec(60, 0.4, 10), color=color.white)\n",
    "\n",
    "rods = [] # list of rods\n",
    "\n",
    "#creating the rods\n",
    "x = -30\n",
    "y = 19.5\n",
    "i = 0\n",
    "while i < 20:\n",
    "    x+=2\n",
    "    rod = cylinder(pos = vector(x, y, -5), radius = Rrod, axis = vec(0,0,10))\n",
    "    rods.append(rod)\n",
    "    if x >= 27:\n",
    "        y-=2\n",
    "        x=-30\n",
    "        if i % 2 == 0:\n",
    "            x = -29.25\n",
    "        i+=1\n",
    "\n",
    "\n",
    "balls = [] # list of balls\n",
    "\n",
    "N = 100 # number of balls\n",
    "\n",
    "#create balls\n",
    "for i in range(N):\n",
    "        ball = sphere(pos = vec(rand.uniform(-28, 28), 20, 0), radius = Rball, color = color.red)\n",
    "\n",
    "        ball.v = vBall # m/s\n",
    "        ball.p = m*ball.v\n",
    "        \n",
    "        balls.append(ball)\n",
    "\n",
    "\n",
    "#check for collisions with rods\n",
    "t = 0\n",
    "dt = 0.01\n",
    "\n",
    "scene.pause()\n",
    "Nsteps = 50\n",
    "while t < Nsteps*dt:\n",
    "    rate(200)\n",
    "    \n",
    "    \n",
    "    #handle collisions with balls and rods    \n",
    "    for ball in balls:\n",
    "        ball.pos = ball.pos + ball.v*dt\n",
    "        \n",
    "        if ball.pos.x > 30:\n",
    "            ball.v.x = - abs(ball.v.x)\n",
    "            ball.p = m*ball.v\n",
    "        elif ball.pos.x < -30:\n",
    "            ball.v.x = abs(ball.v.x)\n",
    "            ball.p = m*ball.v\n",
    "        if ball.pos.y < -20:\n",
    "            ball.v.y = abs(ball.v.y)\n",
    "            ball.p = m*ball.v\n",
    "\n",
    "\n",
    "        for rod in rods:    \n",
    "            center = rod.pos + 1/2*rod.axis\n",
    "            r = ball.pos - center\n",
    "            if mag(r) < Rrod + Rball:\n",
    "                rhat = hat(r)\n",
    "                vballrad = dot(ball.v, rhat)*rhat #rad comp of ball.v\n",
    "                vballtan = ball.v - vballrad #tan comp of ball.v\n",
    "                vballrad = - vballrad #reverse ball.rad due to collision\n",
    "                ball.v = vballtan + vballrad #new ball.v after collision\n",
    "\n",
    "        #check for balls that have bounced up and stop them\n",
    "        if ball.pos.y > 22:\n",
    "            ball.v = vec(0, 0, 0)\n",
    "            \n",
    "            \n",
    "    t = t + dt\n"
   ]
  },
  {
   "cell_type": "code",
   "execution_count": 6,
   "id": "c24d1ff5",
   "metadata": {
    "scrolled": true
   },
   "outputs": [
    {
     "data": {
      "text/plain": [
       "Text(0.5, 1.0, 'Final Y position of Balls')"
      ]
     },
     "execution_count": 6,
     "metadata": {},
     "output_type": "execute_result"
    },
    {
     "data": {
      "image/png": "[encoded data removed]",
      "text/plain": [
       "<Figure size 432x288 with 1 Axes>"
      ]
     },
     "metadata": {
      "needs_background": "light"
     },
     "output_type": "display_data"
    }
   ],
   "source": [
    "positions = [ball.pos.y for ball in balls]\n",
    "\n",
    "plt.hist(positions)\n",
    "plt.xlabel('Y position')\n",
    "plt.ylabel('# of balls')\n",
    "plt.title('Final Y position of Balls')"
   ]
  },
  {
   "cell_type": "markdown",
   "id": "f78541c9",
   "metadata": {},
   "source": [
    "It seems that the particle distribution was far less for the particles with a higher radius."
   ]
  },
  {
   "cell_type": "markdown",
   "id": "211dd2dc",
   "metadata": {},
   "source": [
    "## Conclusion\n",
    "\n",
    "In this project, we simulated particles going through a filter made of solid rods. We determined that a more dense concentration of rods yields for less particle distribution throughout the model. We also determined that using particles with a larger radius decreases the span of particle distribution.\n",
    "\n",
    "In general, the results of our model agree with our predictions of particle distribution in the filter."
   ]
  },
  {
   "cell_type": "code",
   "execution_count": null,
   "id": "df21d013",
   "metadata": {},
   "outputs": [],
   "source": []
  }
 ],
 "metadata": {
  "kernelspec": {
   "display_name": "Python 3 (ipykernel)",
   "language": "python",
   "name": "python3"
  },
  "language_info": {
   "codemirror_mode": {
    "name": "ipython",
    "version": 3
   },
   "file_extension": ".py",
   "mimetype": "text/x-python",
   "name": "python",
   "nbconvert_exporter": "python",
   "pygments_lexer": "ipython3",
   "version": "3.9.7"
  }
 },
 "nbformat": 4,
 "nbformat_minor": 5
}
